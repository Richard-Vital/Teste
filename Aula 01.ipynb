{
 "cells": [
  {
   "cell_type": "markdown",
   "metadata": {},
   "source": [
    "# Olá,  nossa primeira aula de python-jupyter!!"
   ]
  },
  {
   "cell_type": "markdown",
   "metadata": {},
   "source": [
    "Inicialmente vamos instalar o jupyter no Linux.\n",
    "Acessem o link: http://jupyter.org/"
   ]
  },
  {
   "cell_type": "markdown",
   "metadata": {},
   "source": [
    "A linguagem que eu estou usando para montar a página da internet é o Markdown.\n",
    "Para saber mais acesse esses dois links: https://pt.wikipedia.org/wiki/Markdown"
   ]
  },
  {
   "cell_type": "markdown",
   "metadata": {},
   "source": [
    "## Bom, agora vamos escrever alguns códigos em python!!!!!"
   ]
  },
  {
   "cell_type": "code",
   "execution_count": null,
   "metadata": {
    "collapsed": false
   },
   "outputs": [],
   "source": [
    "print(\"ola\")\n",
    "\n",
    "alguma_coisa =input( \"digite aqui...\")\n",
    "\n",
    "print(alguma_coisa)\n"
   ]
  },
  {
   "cell_type": "code",
   "execution_count": null,
   "metadata": {
    "collapsed": false
   },
   "outputs": [],
   "source": [
    "print (\"ola\" )\n",
    "\n",
    "lista = ['casa', 'bateria', 'bebida']\n",
    "\n",
    "for lista in lista:\n",
    "    print (lista)"
   ]
  },
  {
   "cell_type": "code",
   "execution_count": null,
   "metadata": {
    "collapsed": false
   },
   "outputs": [],
   "source": [
    "import urllib.request, urllib.parse, urllib.error\n",
    " \n",
    "url = 'https://scontent.fsjk1-1.fna.fbcdn.net/v/t1.0-9/12654574_1112262048814484_6109392135409345081_n.jpg?oh=873c95dbc661782c3ce93e54d605460b&oe=581BC335'\n",
    " \n",
    "print(\"baixando com urllib\")\n",
    "urllib.request.urlretrieve(url, \"13.jpg\")\n",
    " \n",
    "print(\"baixando com urllib2\")\n",
    "f = urllib.request.urlopen(url)\n",
    "data = f.read()\n",
    "with open(\"13.jpg\", \"wb\") as code:\n",
    "    code.write(data)"
   ]
  },
  {
   "cell_type": "code",
   "execution_count": null,
   "metadata": {
    "collapsed": false
   },
   "outputs": [],
   "source": [
    "\n"
   ]
  },
  {
   "cell_type": "code",
   "execution_count": null,
   "metadata": {
    "collapsed": true
   },
   "outputs": [],
   "source": []
  }
 ],
 "metadata": {
  "anaconda-cloud": {},
  "kernelspec": {
   "display_name": "Python [teste]",
   "language": "python",
   "name": "Python [teste]"
  },
  "language_info": {
   "codemirror_mode": {
    "name": "ipython",
    "version": 3
   },
   "file_extension": ".py",
   "mimetype": "text/x-python",
   "name": "python",
   "nbconvert_exporter": "python",
   "pygments_lexer": "ipython3",
   "version": "3.5.2"
  }
 },
 "nbformat": 4,
 "nbformat_minor": 0
}
