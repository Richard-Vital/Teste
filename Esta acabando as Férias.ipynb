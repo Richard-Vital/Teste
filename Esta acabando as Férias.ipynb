{
 "cells": [
  {
   "cell_type": "markdown",
   "metadata": {},
   "source": [
    "# Está chegando a hora das aulas de Física começarem!!!!!"
   ]
  },
  {
   "cell_type": "markdown",
   "metadata": {},
   "source": [
    "### Não fiquem ansiosos!!! ..."
   ]
  },
  {
   "cell_type": "code",
   "execution_count": 3,
   "metadata": {
    "collapsed": true
   },
   "outputs": [],
   "source": [
    "from metakernel import register_ipython_magics\n",
    "register_ipython_magics()"
   ]
  },
  {
   "cell_type": "code",
   "execution_count": 16,
   "metadata": {
    "collapsed": false
   },
   "outputs": [
    {
     "data": {
      "text/html": [
       "\n",
       "<canvas id=\"canvas_13\"></canvas>\n",
       "<script>\n",
       "require([window.location.protocol + \"//calysto.github.io/javascripts/processing/processing.js\"], function () {\n",
       "    var processingCode = \"\\nint cx, cy;\\nfloat secondsRadius;\\nfloat minutesRadius;\\nfloat hoursRadius;\\nfloat clockDiameter;\\n\\nvoid setup() {\\n  size(640, 360);\\n  stroke(255);\\n  \\n  int radius = min(width, height) / 2;\\n  secondsRadius = radius * 0.72;\\n  minutesRadius = radius * 0.60;\\n  hoursRadius = radius * 0.50;\\n  clockDiameter = radius * 1.8;\\n  \\n  cx = width / 2;\\n  cy = height / 2;\\n}\\n\\nvoid draw() {\\n  background(0,0,250);\\n  \\n  // Draw the clock background\\n  fill(0,0,100);\\n  noStroke();\\n  ellipse(cx, cy, clockDiameter, clockDiameter);\\n  \\n  // Angles for sin() and cos() start at 3 o'clock;\\n  // subtract HALF_PI to make them start at the top\\n  float s = map(second(), 0, 60, 0, TWO_PI) - HALF_PI;\\n  float m = map(minute() + norm(second(), 0, 60), 0, 60, 0, TWO_PI) - HALF_PI; \\n  float h = map(hour() + norm(minute(), 0, 60), 0, 24, 0, TWO_PI * 2) - HALF_PI;\\n  \\n  // Draw the hands of the clock\\n  stroke(255);\\n  strokeWeight(2);\\n  line(cx, cy, cx + cos(s) * secondsRadius, cy + sin(s) * secondsRadius);\\n  strokeWeight(4);\\n  line(cx, cy, cx + cos(m) * minutesRadius, cy + sin(m) * minutesRadius);\\n  strokeWeight(6);\\n  line(cx, cy, cx + cos(h) * hoursRadius, cy + sin(h) * hoursRadius);\\n  \\n  // Draw the minute ticks\\n  strokeWeight(6);\\n  beginShape(POINTS);\\n  for (int a = 0; a < 360; a+=12) {\\n    float angle = radians(a);\\n    float x = cx + cos(angle) * secondsRadius;\\n    float y = cy + sin(angle) * secondsRadius;\\n    vertex(x, y);\\n  }\\n  endShape();\\n}\";\n",
       "    var cc = Processing.compile(processingCode);\n",
       "    var processingInstance = new Processing(\"canvas_13\", cc);\n",
       "});\n",
       "</script>\n"
      ],
      "text/plain": [
       "<IPython.core.display.HTML object>"
      ]
     },
     "metadata": {},
     "output_type": "display_data"
    }
   ],
   "source": [
    "%%processing\n",
    "\n",
    "int cx, cy;\n",
    "float secondsRadius;\n",
    "float minutesRadius;\n",
    "float hoursRadius;\n",
    "float clockDiameter;\n",
    "\n",
    "void setup() {\n",
    "  size(640, 360);\n",
    "  stroke(255);\n",
    "  \n",
    "  int radius = min(width, height) / 2;\n",
    "  secondsRadius = radius * 0.72;\n",
    "  minutesRadius = radius * 0.60;\n",
    "  hoursRadius = radius * 0.50;\n",
    "  clockDiameter = radius * 1.8;\n",
    "  \n",
    "  cx = width / 2;\n",
    "  cy = height / 2;\n",
    "}\n",
    "\n",
    "void draw() {\n",
    "  background(0,0,250);\n",
    "  \n",
    "  // Draw the clock background\n",
    "  fill(0,0,100);\n",
    "  noStroke();\n",
    "  ellipse(cx, cy, clockDiameter, clockDiameter);\n",
    "  \n",
    "  // Angles for sin() and cos() start at 3 o'clock;\n",
    "  // subtract HALF_PI to make them start at the top\n",
    "  float s = map(second(), 0, 60, 0, TWO_PI) - HALF_PI;\n",
    "  float m = map(minute() + norm(second(), 0, 60), 0, 60, 0, TWO_PI) - HALF_PI; \n",
    "  float h = map(hour() + norm(minute(), 0, 60), 0, 24, 0, TWO_PI * 2) - HALF_PI;\n",
    "  \n",
    "  // Draw the hands of the clock\n",
    "  stroke(255);\n",
    "  strokeWeight(2);\n",
    "  line(cx, cy, cx + cos(s) * secondsRadius, cy + sin(s) * secondsRadius);\n",
    "  strokeWeight(4);\n",
    "  line(cx, cy, cx + cos(m) * minutesRadius, cy + sin(m) * minutesRadius);\n",
    "  strokeWeight(6);\n",
    "  line(cx, cy, cx + cos(h) * hoursRadius, cy + sin(h) * hoursRadius);\n",
    "  \n",
    "  // Draw the minute ticks\n",
    "  strokeWeight(6);\n",
    "  beginShape(POINTS);\n",
    "  for (int a = 0; a < 360; a+=12) {\n",
    "    float angle = radians(a);\n",
    "    float x = cx + cos(angle) * secondsRadius;\n",
    "    float y = cy + sin(angle) * secondsRadius;\n",
    "    vertex(x, y);\n",
    "  }\n",
    "  endShape();\n",
    "}"
   ]
  },
  {
   "cell_type": "markdown",
   "metadata": {
    "collapsed": true
   },
   "source": [
    "# Falta pouco tempo para segunda de Manhã!!"
   ]
  }
 ],
 "metadata": {
  "anaconda-cloud": {},
  "kernelspec": {
   "display_name": "Python [teste]",
   "language": "python",
   "name": "Python [teste]"
  },
  "language_info": {
   "codemirror_mode": {
    "name": "ipython",
    "version": 3
   },
   "file_extension": ".py",
   "mimetype": "text/x-python",
   "name": "python",
   "nbconvert_exporter": "python",
   "pygments_lexer": "ipython3",
   "version": "3.5.2"
  }
 },
 "nbformat": 4,
 "nbformat_minor": 0
}
